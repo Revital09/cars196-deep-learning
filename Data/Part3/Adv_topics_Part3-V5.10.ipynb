{
 "cells": [
  {
   "cell_type": "markdown",
   "id": "e5ab4caa-bdeb-4b2e-9c86-249051a669a9",
   "metadata": {},
   "source": [
    "<h1 style=\"color:rgb(17, 116, 155);text-align:left;font-size:250%;font-family:verdana;text-decoration:underline;\"> \n",
    "    Advanced topics - Final Project - Part 3: End-to-End CNN</h1>"
   ]
  },
  {
   "cell_type": "markdown",
   "id": "5db3e8b2-a92b-49fa-aab6-e10dc30d9bd7",
   "metadata": {},
   "source": [
    "## <u>שיפור ארכיטקטורת הרשת, Label Smoothing,אוגמנטציה מתקדמת </u>"
   ]
  },
  {
   "cell_type": "markdown",
   "id": "bc8cc0cd-f383-4cd0-bc2e-3285c12b2661",
   "metadata": {},
   "source": [
    "## <u>Imports</u>"
   ]
  },
  {
   "cell_type": "code",
   "execution_count": 4,
   "id": "68399c62-7323-4d76-8ce9-e0b83824a878",
   "metadata": {},
   "outputs": [],
   "source": [
    "import os\n",
    "os.environ[\"KMP_DUPLICATE_LIB_OK\"]=\"TRUE\"\n",
    "\n",
    "from PIL import Image, ImageFilter\n",
    "import tensorflow as tf\n",
    "import torch\n",
    "from torch.utils.data import Dataset, DataLoader\n",
    "import torchvision.transforms as transforms\n",
    "import torch.nn as nn\n",
    "import torch.optim as optim\n",
    "import time\n",
    "import torch.nn.functional as F\n",
    "import numpy as np\n",
    "from sklearn.utils.class_weight import compute_class_weight\n",
    "import gc\n",
    "from collections import defaultdict\n",
    "import random\n",
    "import matplotlib.pyplot as plt"
   ]
  },
  {
   "cell_type": "code",
   "execution_count": 5,
   "id": "24211b00-91e2-4d41-83b9-3a35b28efd78",
   "metadata": {},
   "outputs": [
    {
     "name": "stdout",
     "output_type": "stream",
     "text": [
      "Using device: cuda\n"
     ]
    }
   ],
   "source": [
    "# קביעת התקן (GPU אם קיים)\n",
    "device = torch.device(\"cuda\" if torch.cuda.is_available() else \"cpu\")\n",
    "print(f\"Using device: {device}\")"
   ]
  },
  {
   "cell_type": "code",
   "execution_count": 6,
   "id": "c8003671-a3d3-4e86-bf59-d1cac45c8f94",
   "metadata": {},
   "outputs": [
    {
     "data": {
      "text/plain": [
       "208"
      ]
     },
     "execution_count": 6,
     "metadata": {},
     "output_type": "execute_result"
    }
   ],
   "source": [
    "torch.cuda.empty_cache()  # אם יש GPU \n",
    "gc.collect()  # ניקוי זיכרון בפייתון"
   ]
  },
  {
   "cell_type": "markdown",
   "id": "b3ea9bea-8f37-4824-b77c-f54ed44d9947",
   "metadata": {},
   "source": [
    "## <u>Load and Preprocess Dataset</u>"
   ]
  },
  {
   "cell_type": "code",
   "execution_count": 8,
   "id": "28b29a1c-dc42-4ed5-9b93-bb9426860437",
   "metadata": {},
   "outputs": [
    {
     "name": "stdout",
     "output_type": "stream",
     "text": [
      "Loading Cars196 dataset from TFRecord files...\n",
      "Loaded 8144 training images and 8041 test images.\n"
     ]
    }
   ],
   "source": [
    "# טעינת הנתונים (TFRecord) והכנה לפורמט PyTorch\n",
    "print(\"Loading Cars196 dataset from TFRecord files...\")\n",
    "\n",
    "data_dir = r\"C:\\Users\\yifat\\Data Science\\נושאים מתקדמים\\Final_Project_Shay\\cars196\"\n",
    "\n",
    "# יצירת רשימת קבצי ה-TFRecord\n",
    "train_files = [os.path.join(data_dir, f\"cars196-train.tfrecord-0000{i}-of-00008\") for i in range(8)]\n",
    "test_files = [os.path.join(data_dir, f\"cars196-test.tfrecord-0000{i}-of-00008\") for i in range(8)]\n",
    "\n",
    "# פונקציה לקריאת TFRecord\n",
    "def parse_tfrecord(example):\n",
    "    feature_description = {\n",
    "        'image': tf.io.FixedLenFeature([], tf.string),\n",
    "        'label': tf.io.FixedLenFeature([], tf.int64)\n",
    "    }\n",
    "    parsed_example = tf.io.parse_single_example(example, feature_description)\n",
    "    \n",
    "    image = tf.image.decode_jpeg(parsed_example['image'], channels=3)\n",
    "    image = tf.image.convert_image_dtype(image, tf.float32)  # מונע איבוד מידע\n",
    "    image = tf.image.resize(image, (224, 224))\n",
    "\n",
    "    label = parsed_example['label']\n",
    "    return image, label\n",
    "\n",
    "\n",
    "def load_tfrecord_dataset(filenames):\n",
    "    raw_dataset = tf.data.TFRecordDataset(filenames)\n",
    "    dataset = raw_dataset.map(parse_tfrecord)\n",
    "    return list(dataset)  # ממירים לרשימה לשימוש ב-PyTorch\n",
    "\n",
    "# טעינת ה-Train/Test מ-TFRecord\n",
    "train_data = [(image, label) for image, label in load_tfrecord_dataset(train_files)]\n",
    "test_data = [(image, label) for image, label in load_tfrecord_dataset(test_files)]\n",
    "\n",
    "print(f\"Loaded {len(train_data)} training images and {len(test_data)} test images.\")\n"
   ]
  },
  {
   "cell_type": "code",
   "execution_count": 9,
   "id": "43222f66-5890-4225-b2c2-acce6487b2a4",
   "metadata": {},
   "outputs": [],
   "source": [
    "# ביצוע דגימה אקראית מכל מחלקה ע\"מ ליצור כמות דאטה קטנה יותר לצורכי בדיקת המודל והרצות מהירות יותר\n",
    "# הדגימה תעשה ע\"י ייצוג שיוויוני מכל מחלקה קיימת בדאטה-סט, כדי לוודא שכל הקטגוריות מיוצגות\n",
    "# לצורך כך, אבחר 50% מהתמונות של כל מחלקה בנפרד, כדי שכל המחלקות יופיעו\n",
    "##############################################################\n",
    "# ריצה על כל הדאטה - 100%\n",
    "#########################"
   ]
  },
  {
   "cell_type": "code",
   "execution_count": 10,
   "id": "f0a1a634-8620-44c0-8260-080881b11b8b",
   "metadata": {},
   "outputs": [
    {
     "name": "stdout",
     "output_type": "stream",
     "text": [
      "Using 8144 training images and 8041 test images from all classes.\n"
     ]
    }
   ],
   "source": [
    "# קביעת אחוז הדאטה לשימוש\n",
    "subset_ratio = 1.0  # 100% מהדאטה\n",
    "\n",
    "# ארגון הדאטה לפי מחלקות\n",
    "class_to_images = defaultdict(list)\n",
    "for image, label in train_data:\n",
    "    class_to_images[label.numpy()].append((image, label))\n",
    "\n",
    "# בחירת 100% מכל מחלקה\n",
    "filtered_train_data = []\n",
    "for label, images in class_to_images.items():\n",
    "    num_samples = max(1, int(len(images) * subset_ratio))  # לוודא שיש לפחות תמונה אחת\n",
    "    filtered_train_data.extend(random.sample(images, num_samples))\n",
    "\n",
    "# חזרה על זה עבור הדאטה של הבדיקות\n",
    "class_to_images_test = defaultdict(list)\n",
    "for image, label in test_data:\n",
    "    class_to_images_test[label.numpy()].append((image, label))\n",
    "\n",
    "filtered_test_data = []\n",
    "for label, images in class_to_images_test.items():\n",
    "    num_samples = max(1, int(len(images) * subset_ratio))\n",
    "    filtered_test_data.extend(random.sample(images, num_samples))\n",
    "\n",
    "# עדכון הדאטה\n",
    "train_data = filtered_train_data\n",
    "test_data = filtered_test_data\n",
    "\n",
    "print(f\"Using {len(train_data)} training images and {len(test_data)} test images from all classes.\")\n"
   ]
  },
  {
   "cell_type": "code",
   "execution_count": 11,
   "id": "00fbc8aa-92ef-447d-af0d-b1312d8d9292",
   "metadata": {},
   "outputs": [],
   "source": [
    "# מחלקת Dataset לטעינת הנתונים\n",
    "class Cars196Dataset(Dataset):\n",
    "    def __init__(self, data, transform=None):\n",
    "        self.data = data\n",
    "        self.transform = transform\n",
    "\n",
    "    def __len__(self):\n",
    "        return len(self.data)\n",
    "\n",
    "    def __getitem__(self, idx):\n",
    "        image_tf, label = self.data[idx]  # image_tf הוא Tensor של TensorFlow\n",
    "        image_np = image_tf.numpy()  # המרה ל-NumPy\n",
    "        image = Image.fromarray((image_np * 255).astype(np.uint8))  # הבאת הפיקסלים לטווח 0-255\n",
    "        if self.transform:\n",
    "            image = self.transform(image)\n",
    "        return image, label.numpy()  # גם label צריך להיות מספר ולא Tensor\n"
   ]
  },
  {
   "cell_type": "code",
   "execution_count": 12,
   "id": "bb725ff1-c3d5-464a-9cab-0c439329eb9f",
   "metadata": {},
   "outputs": [],
   "source": [
    "train_transform = transforms.Compose([\n",
    "    transforms.RandomResizedCrop(224, scale=(0.6, 1.0)),  # חיתוך רנדומלי לתמונה בגודל 224x224 עם שינוי קנה מידה (60%-100%) - מגוונת את הפריים הנבחר מהתמונה המקורית\n",
    "    transforms.RandomHorizontalFlip(p=0.5),               # היפוך אופקי של התמונה ב־50% מהמקרים - מדמה מכוניות מימין/משמאל\n",
    "    transforms.RandomRotation(degrees=15),                # סיבוב אקראי עד ±15 מעלות - מוסיף וריאציות בזוויות צילום\n",
    "    transforms.RandomPerspective(distortion_scale=0.2, p=0.3),  # עיוות פרספקטיבה ב־30% מהמקרים - מדמה צילום מזווית שונה (למשל מלמטה או בצד)\n",
    "    transforms.RandomAffine(degrees=0, translate=(0.1, 0.1), scale=(0.9, 1.1), shear=10),  # הזזה, מתיחה והטיה של התמונה - מגוונת עוד יותר את הפריים\n",
    "    transforms.ColorJitter(brightness=0.3, contrast=0.3, saturation=0.3, hue=0.1),  # שינוי אקראי בעוצמת התאורה, ניגודיות, רוויה וגוון - מתמודד עם תנאי צילום שונים\n",
    "    transforms.RandomGrayscale(p=0.1),                    # הפיכת התמונה לשחור-לבן ב־10% מהמקרים - עוזר למודל להתמקד בצורה ולא רק בצבע\n",
    "    transforms.RandomAutocontrast(p=0.2),                 # יישום ניגודיות אוטומטית ב־20% מהתמונות - מדגיש תכונות בתמונה\n",
    "    transforms.ToTensor(),                                # המרה מ־PIL Image ל־Tensor של PyTorch (מספרים בין 0 ל־1)\n",
    "    transforms.RandomErasing(p=0.25, scale=(0.02, 0.2)),   # מחיקת אזור אקראי קטן ב־25% מהמקרים - מדמה \"חסימה\" של פרטים בתמונה\n",
    "    transforms.Normalize(mean=[0.485, 0.456, 0.406],       # נרמול הערכים (הממוצע וסטיית התקן של ImageNet) – חיוני ללמידה יציבה\n",
    "                         std=[0.229, 0.224, 0.225])\n",
    "])\n",
    "\n",
    "\n",
    "# סט הבדיקה ללא אוגמנטציה\n",
    "test_transform = transforms.Compose([\n",
    "    transforms.Resize((224, 224)),\n",
    "    transforms.ToTensor(),\n",
    "    transforms.Normalize(mean=[0.485, 0.456, 0.406], std=[0.229, 0.224, 0.225])\n",
    "])\n"
   ]
  },
  {
   "cell_type": "code",
   "execution_count": 13,
   "id": "28dbf99e-0ea1-4878-a1da-49acb5dfffe3",
   "metadata": {},
   "outputs": [
    {
     "name": "stdout",
     "output_type": "stream",
     "text": [
      "Train and Test Dataloaders created with batch size 32.\n",
      "Training samples: 8144, Testing samples: 8041\n"
     ]
    }
   ],
   "source": [
    "batch_size = 32\n",
    "train_dataset = Cars196Dataset(train_data, transform=train_transform)\n",
    "test_dataset = Cars196Dataset(test_data, transform=test_transform)\n",
    "\n",
    "train_loader = DataLoader(train_dataset, batch_size=batch_size, shuffle=True, num_workers=0)\n",
    "test_loader = DataLoader(test_dataset, batch_size=batch_size, shuffle=False, num_workers=0)\n",
    "\n",
    "print(f\"Train and Test Dataloaders created with batch size {batch_size}.\")\n",
    "print(f\"Training samples: {len(train_dataset)}, Testing samples: {len(test_dataset)}\")\n"
   ]
  },
  {
   "cell_type": "code",
   "execution_count": 14,
   "id": "18506724-355b-44d8-bbeb-2a1a0482e3ac",
   "metadata": {},
   "outputs": [],
   "source": [
    "# חישוב משקלים למחלקות לטיפול בחוסר איזון\n",
    "labels_list = np.array([label.numpy() for _, label in train_data])  # המרה ל-NumPy\n",
    "class_weights = compute_class_weight(class_weight=\"balanced\", classes=np.unique(labels_list), y=labels_list)\n",
    "class_weights = torch.tensor(class_weights, dtype=torch.float).to(device)  # המרה ל-Tensor של PyTorch\n"
   ]
  },
  {
   "cell_type": "markdown",
   "id": "dad66359-9706-4558-9b71-27eac9627f6f",
   "metadata": {},
   "source": [
    "## <u>Define and Train a CNN Model</u>"
   ]
  },
  {
   "cell_type": "code",
   "execution_count": 16,
   "id": "7253cfb6-86c3-4848-8087-ccf6b37ed0c3",
   "metadata": {},
   "outputs": [],
   "source": [
    "# שיפור ארכיטקטורת הרשת – הוספת שכבות, נרמול ושכבות קונבולוציה נוספות\n",
    "#######################################################\n",
    "# הוספת שכבות Batch Normalization תייצב את הלמידה ותאפשר התכנסות טובה יותר.\n",
    "# הוספת Conv+MaxPooling כפולות יאפשרו למודל ללמוד יותר פרמטרים תוך שמירה על יעילות חישובית."
   ]
  },
  {
   "cell_type": "code",
   "execution_count": 17,
   "id": "f84f4fbb-2745-41c7-90fa-40638a82946f",
   "metadata": {},
   "outputs": [],
   "source": [
    "class CNNClassifier(nn.Module):\n",
    "    def __init__(self, num_classes=196):\n",
    "        super(CNNClassifier, self).__init__()\n",
    "\n",
    "        self.conv1 = nn.Conv2d(3, 64, kernel_size=3, stride=1, padding=1)\n",
    "        self.bn1 = nn.BatchNorm2d(64)\n",
    "        self.conv2 = nn.Conv2d(64, 128, kernel_size=3, stride=1, padding=1)\n",
    "        self.bn2 = nn.BatchNorm2d(128)\n",
    "        self.conv3 = nn.Conv2d(128, 256, kernel_size=3, stride=1, padding=1)\n",
    "        self.bn3 = nn.BatchNorm2d(256)\n",
    "        self.conv4 = nn.Conv2d(256, 512, kernel_size=3, stride=1, padding=1)\n",
    "        self.bn4 = nn.BatchNorm2d(512)\n",
    "        self.conv5 = nn.Conv2d(512, 1024, kernel_size=3, stride=1, padding=1)  # שכבה נוספת\n",
    "        self.bn5 = nn.BatchNorm2d(1024)\n",
    "\n",
    "        self.pool = nn.MaxPool2d(kernel_size=2, stride=2, padding=0)\n",
    "        self.dropout = nn.Dropout(0.5)\n",
    "\n",
    "        self.fc1 = nn.Linear(1024 * 7 * 7, 2048)  # התאמה לכמות הפיצ'רים החדשה\n",
    "        self.fc2 = nn.Linear(2048, 1024)\n",
    "        self.fc3 = nn.Linear(1024, num_classes)\n",
    "\n",
    "    def forward(self, x):\n",
    "        x = self.pool(F.relu(self.bn1(self.conv1(x))))\n",
    "        x = self.pool(F.relu(self.bn2(self.conv2(x))))\n",
    "        x = self.pool(F.relu(self.bn3(self.conv3(x))))\n",
    "        x = self.pool(F.relu(self.bn4(self.conv4(x))))\n",
    "        x = self.pool(F.relu(self.bn5(self.conv5(x))))  # שכבה נוספת\n",
    "\n",
    "        x = torch.flatten(x, 1)\n",
    "        x = F.relu(self.fc1(x))\n",
    "        x = self.dropout(x)\n",
    "        x = F.relu(self.fc2(x))\n",
    "        x = self.fc3(x)\n",
    "\n",
    "        return x\n"
   ]
  },
  {
   "cell_type": "code",
   "execution_count": 18,
   "id": "fcf7f4e1-75d0-4b35-b5e2-564dcdcb4f1f",
   "metadata": {},
   "outputs": [
    {
     "name": "stdout",
     "output_type": "stream",
     "text": [
      "True\n",
      "1\n",
      "NVIDIA GeForce RTX 4050 Laptop GPU\n"
     ]
    },
    {
     "data": {
      "text/plain": [
       "543"
      ]
     },
     "execution_count": 18,
     "metadata": {},
     "output_type": "execute_result"
    }
   ],
   "source": [
    "print(torch.cuda.is_available())  # צריך להחזיר True\n",
    "print(torch.cuda.device_count())  # צריך להיות 1 לפחות\n",
    "print(torch.cuda.get_device_name(0))  # שם הכרטיס הגרפי\n",
    "\n",
    "torch.cuda.empty_cache()  # אם יש GPU \n",
    "gc.collect()  # ניקוי זיכרון בפייתון"
   ]
  },
  {
   "cell_type": "code",
   "execution_count": 19,
   "id": "c0c0016b-1538-4793-8a67-bcba5ba54043",
   "metadata": {},
   "outputs": [],
   "source": [
    "# פונקציות אימון ובדיקה\n",
    "def train_epoch(model, train_loader, criterion, optimizer):\n",
    "    model.train()\n",
    "    model.to(device)\n",
    "    running_loss = 0\n",
    "    start_time = time.time()\n",
    "    \n",
    "    for images, labels in train_loader:\n",
    "        images, labels = images.to(device), labels.to(device)\n",
    "        optimizer.zero_grad()\n",
    "        \n",
    "        outputs = model(images)\n",
    "        loss = criterion(outputs, labels)\n",
    "        \n",
    "        loss.backward()\n",
    "        optimizer.step()\n",
    "\n",
    "        running_loss += loss.item()\n",
    "\n",
    "    scheduler.step()  # עדכון הלרנינג רייט בסוף כל אפוק\n",
    "    end_time = time.time()\n",
    "    running_loss /= len(train_loader)\n",
    "    return running_loss, end_time - start_time\n",
    "    \n",
    "\n",
    "# פונקציה לבדיקה של המודל\n",
    "def test_model(model, test_loader, criterion):\n",
    "    with torch.no_grad():\n",
    "        model.eval()\n",
    "        model.to(device)\n",
    "        running_loss = 0\n",
    "        total_predictions = 0\n",
    "        correct_predictions = 0\n",
    "        \n",
    "        for images, labels in test_loader:\n",
    "            images, labels = images.to(device), labels.to(device)\n",
    "            outputs = model(images)\n",
    "            loss = criterion(outputs, labels)\n",
    "            \n",
    "            running_loss += loss.item()\n",
    "            _, predicted = torch.max(outputs.data, 1)\n",
    "            total_predictions += labels.size(0)\n",
    "            correct_predictions += (predicted == labels).sum().item()\n",
    "        \n",
    "        running_loss /= len(test_loader)\n",
    "        accuracy = (correct_predictions / total_predictions)*100.0\n",
    "        return running_loss, accuracy\n"
   ]
  },
  {
   "cell_type": "code",
   "execution_count": 20,
   "id": "77e23818-c0e7-4cb4-a186-c08362ed4ba3",
   "metadata": {},
   "outputs": [],
   "source": [
    "# שילוב Early Stopping \n",
    "######################"
   ]
  },
  {
   "cell_type": "code",
   "execution_count": 21,
   "id": "a701e453-541e-406c-8e1f-4c51b35e48c7",
   "metadata": {},
   "outputs": [],
   "source": [
    "class EarlyStopping:\n",
    "    def __init__(self, patience=10, min_delta=0.001):\n",
    "        \"\"\"\n",
    "        patience - מספר האפוקים ללא שיפור לפני עצירה\n",
    "        min_delta - השיפור המינימלי שייחשב לשיפור אמיתי\n",
    "        \"\"\"\n",
    "        self.patience = patience\n",
    "        self.min_delta = min_delta\n",
    "        self.best_loss = float('inf')\n",
    "        self.counter = 0\n",
    "\n",
    "    def __call__(self, val_loss):\n",
    "        if val_loss < self.best_loss - self.min_delta:\n",
    "            self.best_loss = val_loss\n",
    "            self.counter = 0  # אפס את הספירה אם יש שיפור\n",
    "        else:\n",
    "            self.counter += 1  # ספירה של אפוקים ללא שיפור\n",
    "\n",
    "        return self.counter >= self.patience  # עצור אם חרגנו ממספר האפוקים המותר\n"
   ]
  },
  {
   "cell_type": "code",
   "execution_count": 22,
   "id": "ffd04947-042a-4400-9838-ed56e454cf5b",
   "metadata": {
    "scrolled": true
   },
   "outputs": [
    {
     "name": "stdout",
     "output_type": "stream",
     "text": [
      "Epoch 1/50 | Train Loss: 5.4192 | Time = 149.38s | Test Loss: 5.2478 | Test Acc: 0.97%\n",
      "New best model saved with accuracy: 0.97%\n",
      "Epoch 2/50 | Train Loss: 5.2584 | Time = 143.55s | Test Loss: 5.2255 | Test Acc: 0.82%\n",
      "Epoch 3/50 | Train Loss: 5.2448 | Time = 147.79s | Test Loss: 5.2216 | Test Acc: 0.98%\n",
      "New best model saved with accuracy: 0.98%\n",
      "Epoch 4/50 | Train Loss: 5.2319 | Time = 131.78s | Test Loss: 5.2212 | Test Acc: 1.01%\n",
      "New best model saved with accuracy: 1.01%\n",
      "Epoch 5/50 | Train Loss: 5.2279 | Time = 130.45s | Test Loss: 5.2036 | Test Acc: 0.88%\n",
      "Epoch 6/50 | Train Loss: 5.2257 | Time = 131.70s | Test Loss: 5.2051 | Test Acc: 1.07%\n",
      "New best model saved with accuracy: 1.07%\n",
      "Epoch 7/50 | Train Loss: 5.2217 | Time = 132.45s | Test Loss: 5.2086 | Test Acc: 1.28%\n",
      "New best model saved with accuracy: 1.28%\n",
      "Epoch 8/50 | Train Loss: 5.2145 | Time = 132.37s | Test Loss: 5.1923 | Test Acc: 1.09%\n",
      "Epoch 9/50 | Train Loss: 5.2162 | Time = 131.98s | Test Loss: 5.1987 | Test Acc: 0.99%\n",
      "Epoch 10/50 | Train Loss: 5.2131 | Time = 132.15s | Test Loss: 5.1958 | Test Acc: 0.92%\n",
      "Epoch 11/50 | Train Loss: 5.2028 | Time = 132.43s | Test Loss: 5.1797 | Test Acc: 1.17%\n",
      "Epoch 12/50 | Train Loss: 5.2048 | Time = 131.28s | Test Loss: 5.1929 | Test Acc: 1.21%\n",
      "Epoch 13/50 | Train Loss: 5.1992 | Time = 132.25s | Test Loss: 5.1793 | Test Acc: 1.13%\n",
      "Epoch 14/50 | Train Loss: 5.1949 | Time = 130.50s | Test Loss: 5.1740 | Test Acc: 0.97%\n",
      "Epoch 15/50 | Train Loss: 5.1936 | Time = 131.17s | Test Loss: 5.1736 | Test Acc: 0.96%\n",
      "Epoch 16/50 | Train Loss: 5.1936 | Time = 131.67s | Test Loss: 5.1717 | Test Acc: 1.21%\n",
      "Epoch 17/50 | Train Loss: 5.1917 | Time = 131.08s | Test Loss: 5.1776 | Test Acc: 0.93%\n",
      "Epoch 18/50 | Train Loss: 5.1821 | Time = 130.96s | Test Loss: 5.1665 | Test Acc: 0.95%\n",
      "Epoch 19/50 | Train Loss: 5.1835 | Time = 132.39s | Test Loss: 5.1618 | Test Acc: 1.36%\n",
      "New best model saved with accuracy: 1.36%\n",
      "Epoch 20/50 | Train Loss: 5.1796 | Time = 131.48s | Test Loss: 5.1580 | Test Acc: 1.12%\n",
      "Epoch 21/50 | Train Loss: 5.1768 | Time = 131.27s | Test Loss: 5.1532 | Test Acc: 1.57%\n",
      "New best model saved with accuracy: 1.57%\n",
      "Epoch 22/50 | Train Loss: 5.1723 | Time = 131.27s | Test Loss: 5.1546 | Test Acc: 1.27%\n",
      "Epoch 23/50 | Train Loss: 5.1705 | Time = 131.07s | Test Loss: 5.1457 | Test Acc: 1.43%\n",
      "Epoch 24/50 | Train Loss: 5.1727 | Time = 130.90s | Test Loss: 5.1534 | Test Acc: 1.50%\n",
      "Epoch 25/50 | Train Loss: 5.1675 | Time = 130.86s | Test Loss: 5.1384 | Test Acc: 1.39%\n",
      "Epoch 26/50 | Train Loss: 5.1621 | Time = 130.81s | Test Loss: 5.1357 | Test Acc: 1.34%\n",
      "Epoch 27/50 | Train Loss: 5.1664 | Time = 131.10s | Test Loss: 5.1429 | Test Acc: 1.47%\n",
      "Epoch 28/50 | Train Loss: 5.1585 | Time = 130.51s | Test Loss: 5.1339 | Test Acc: 2.11%\n",
      "New best model saved with accuracy: 2.11%\n",
      "Epoch 29/50 | Train Loss: 5.1526 | Time = 130.47s | Test Loss: 5.1403 | Test Acc: 1.34%\n",
      "Epoch 30/50 | Train Loss: 5.1536 | Time = 131.03s | Test Loss: 5.1368 | Test Acc: 1.55%\n",
      "Epoch 31/50 | Train Loss: 5.1525 | Time = 130.79s | Test Loss: 5.1136 | Test Acc: 2.21%\n",
      "New best model saved with accuracy: 2.21%\n",
      "Epoch 32/50 | Train Loss: 5.1427 | Time = 130.66s | Test Loss: 5.1216 | Test Acc: 1.68%\n",
      "Epoch 33/50 | Train Loss: 5.1442 | Time = 130.25s | Test Loss: 5.0990 | Test Acc: 1.95%\n",
      "Epoch 34/50 | Train Loss: 5.1379 | Time = 130.45s | Test Loss: 5.1014 | Test Acc: 2.16%\n",
      "Epoch 35/50 | Train Loss: 5.1323 | Time = 130.78s | Test Loss: 5.0905 | Test Acc: 2.16%\n",
      "Epoch 36/50 | Train Loss: 5.1137 | Time = 130.34s | Test Loss: 5.0798 | Test Acc: 2.45%\n",
      "New best model saved with accuracy: 2.45%\n",
      "Epoch 37/50 | Train Loss: 5.1012 | Time = 131.39s | Test Loss: 5.0631 | Test Acc: 2.28%\n",
      "Epoch 38/50 | Train Loss: 5.0952 | Time = 131.19s | Test Loss: 5.0132 | Test Acc: 2.80%\n",
      "New best model saved with accuracy: 2.80%\n",
      "Epoch 39/50 | Train Loss: 5.0834 | Time = 130.17s | Test Loss: 5.0322 | Test Acc: 2.67%\n",
      "Epoch 40/50 | Train Loss: 5.0701 | Time = 131.12s | Test Loss: 4.9954 | Test Acc: 2.86%\n",
      "New best model saved with accuracy: 2.86%\n",
      "Epoch 41/50 | Train Loss: 5.0556 | Time = 131.13s | Test Loss: 4.9803 | Test Acc: 3.38%\n",
      "New best model saved with accuracy: 3.38%\n",
      "Epoch 42/50 | Train Loss: 5.0362 | Time = 131.02s | Test Loss: 4.9557 | Test Acc: 2.85%\n",
      "Epoch 43/50 | Train Loss: 5.0219 | Time = 130.97s | Test Loss: 4.9614 | Test Acc: 2.85%\n",
      "Epoch 44/50 | Train Loss: 5.0130 | Time = 130.16s | Test Loss: 4.9939 | Test Acc: 2.11%\n",
      "Epoch 45/50 | Train Loss: 4.9855 | Time = 131.18s | Test Loss: 5.0320 | Test Acc: 2.39%\n",
      "Epoch 46/50 | Train Loss: 4.9892 | Time = 130.53s | Test Loss: 4.9384 | Test Acc: 2.91%\n",
      "Epoch 47/50 | Train Loss: 4.9682 | Time = 130.52s | Test Loss: 4.9369 | Test Acc: 2.90%\n",
      "Epoch 48/50 | Train Loss: 4.9470 | Time = 130.36s | Test Loss: 4.8659 | Test Acc: 3.57%\n",
      "New best model saved with accuracy: 3.57%\n",
      "Epoch 49/50 | Train Loss: 4.9404 | Time = 131.31s | Test Loss: 4.8538 | Test Acc: 3.67%\n",
      "New best model saved with accuracy: 3.67%\n",
      "Epoch 50/50 | Train Loss: 4.9257 | Time = 131.01s | Test Loss: 4.8330 | Test Acc: 3.82%\n",
      "New best model saved with accuracy: 3.82%\n",
      "\n",
      "Training complete. Best Test Accuracy achieved: 3.82%\n"
     ]
    },
    {
     "data": {
      "image/png": "[encoded data removed]",
      "text/plain": [
       "<Figure size 1000x500 with 1 Axes>"
      ]
     },
     "metadata": {},
     "output_type": "display_data"
    },
    {
     "name": "stdout",
     "output_type": "stream",
     "text": [
      "Best Accuracy Achieved: 3.82% at Epoch 50\n"
     ]
    },
    {
     "name": "stderr",
     "output_type": "stream",
     "text": [
      "C:\\Users\\yifat\\AppData\\Local\\Temp\\ipykernel_18724\\499819586.py:63: FutureWarning: You are using `torch.load` with `weights_only=False` (the current default value), which uses the default pickle module implicitly. It is possible to construct malicious pickle data which will execute arbitrary code during unpickling (See https://github.com/pytorch/pytorch/blob/main/SECURITY.md#untrusted-models for more details). In a future release, the default value for `weights_only` will be flipped to `True`. This limits the functions that could be executed during unpickling. Arbitrary objects will no longer be allowed to be loaded via this mode unless they are explicitly allowlisted by the user via `torch.serialization.add_safe_globals`. We recommend you start setting `weights_only=True` for any use case where you don't have full control of the loaded file. Please open an issue on GitHub for any issues related to this experimental feature.\n",
      "  model.load_state_dict(torch.load(best_model_path))\n"
     ]
    },
    {
     "name": "stdout",
     "output_type": "stream",
     "text": [
      "Best model loaded from: BEST_model_adamw_lr0003_decay1e5_FULLDATA.pth\n",
      "Final Evaluation on Best Model: Loss = 4.8330, Accuracy = 3.82%\n"
     ]
    },
    {
     "data": {
      "text/plain": [
       "3224"
      ]
     },
     "execution_count": 22,
     "metadata": {},
     "output_type": "execute_result"
    }
   ],
   "source": [
    "num_epochs = 50  # הגדלת מספר האפוקים\n",
    "\n",
    "# הגדרת הקונפיגורציה הנבחרת\n",
    "chosen_config = {\"name\": \"adamw_lr0003_decay1e5\", \"lr\": 0.0003, \"weight_decay\": 1e-5}\n",
    "\n",
    "# יצירת המודל והאופטימייזר\n",
    "model = CNNClassifier(num_classes=196).to(device)\n",
    "\n",
    "optimizer = optim.AdamW(\n",
    "    model.parameters(),\n",
    "    lr=chosen_config[\"lr\"],\n",
    "    weight_decay=chosen_config[\"weight_decay\"]\n",
    ")\n",
    "\n",
    "scheduler = torch.optim.lr_scheduler.OneCycleLR(\n",
    "    optimizer, max_lr=0.005, steps_per_epoch=len(train_loader), epochs=num_epochs\n",
    ")\n",
    "\n",
    "criterion = nn.CrossEntropyLoss(weight=class_weights, label_smoothing=0.1)\n",
    "early_stopping = EarlyStopping(patience=10, min_delta=0.001)\n",
    "\n",
    "best_acc = 0.0\n",
    "acc_per_epoch = []\n",
    "\n",
    "for epoch in range(num_epochs):\n",
    "    train_loss, train_time = train_epoch(model, train_loader, criterion, optimizer)\n",
    "    test_loss, test_acc = test_model(model, test_loader, criterion)\n",
    "   \n",
    "    print(f\"Epoch {epoch+1}/{num_epochs} | Train Loss: {train_loss:.4f} | Time = {train_time:.2f}s | Test Loss: {test_loss:.4f} | Test Acc: {test_acc:.2f}%\")\n",
    "\n",
    "    acc_per_epoch.append(test_acc)\n",
    "\n",
    "    # שמירת המודל הטוב ביותר לפי Test Accuracy\n",
    "    if test_acc > best_acc:\n",
    "        best_acc = test_acc\n",
    "        torch.save(model.state_dict(), f\"BEST_model_{chosen_config['name']}_FULLDATA.pth\")\n",
    "        print(f\"New best model saved with accuracy: {best_acc:.2f}%\")\n",
    "\n",
    "\n",
    "    if early_stopping(test_loss):\n",
    "        print(f\"Early stopping for {chosen_config['name']} at epoch {epoch+1}\\n\")\n",
    "        break\n",
    "\n",
    "# סיום\n",
    "print(f\"\\nTraining complete. Best Test Accuracy achieved: {best_acc:.2f}%\")\n",
    "\n",
    "\n",
    "# גרף תוצאת דיוק\n",
    "plt.figure(figsize=(10, 5))\n",
    "plt.plot(acc_per_epoch, marker='o', label=chosen_config['name'])\n",
    "plt.xlabel(\"Epoch\")\n",
    "plt.ylabel(\"Test Accuracy (%)\")\n",
    "plt.title(\"Test Accuracy Over Epochs – Full Dataset\")\n",
    "plt.grid(True)\n",
    "plt.legend()\n",
    "plt.tight_layout()\n",
    "plt.show()\n",
    "\n",
    "print(f\"Best Accuracy Achieved: {max(acc_per_epoch):.2f}% at Epoch {acc_per_epoch.index(max(acc_per_epoch)) + 1}\")\n",
    "\n",
    "# === טוענים את המודל הכי טוב שנשמר במהלך האימון ===\n",
    "best_model_path = f\"BEST_model_{chosen_config['name']}_FULLDATA.pth\"\n",
    "model.load_state_dict(torch.load(best_model_path))\n",
    "model.to(device)\n",
    "print(f\"Best model loaded from: {best_model_path}\")\n",
    "\n",
    "# נבדוק אותו שוב\n",
    "final_loss, final_acc = test_model(model, test_loader, criterion)\n",
    "print(f\"Final Evaluation on Best Model: Loss = {final_loss:.4f}, Accuracy = {final_acc:.2f}%\")\n",
    "\n",
    "# ניקוי\n",
    "del model\n",
    "torch.cuda.empty_cache()\n",
    "gc.collect()\n"
   ]
  },
  {
   "cell_type": "raw",
   "id": "93741526-3c68-4877-9b79-6126565a682e",
   "metadata": {},
   "source": []
  }
 ],
 "metadata": {
  "kernelspec": {
   "display_name": "Python [conda env:base] *",
   "language": "python",
   "name": "conda-base-py"
  },
  "language_info": {
   "codemirror_mode": {
    "name": "ipython",
    "version": 3
   },
   "file_extension": ".py",
   "mimetype": "text/x-python",
   "name": "python",
   "nbconvert_exporter": "python",
   "pygments_lexer": "ipython3",
   "version": "3.12.7"
  }
 },
 "nbformat": 4,
 "nbformat_minor": 5
}
