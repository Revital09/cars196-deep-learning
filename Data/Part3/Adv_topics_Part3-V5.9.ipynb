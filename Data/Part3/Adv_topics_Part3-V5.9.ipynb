{
 "cells": [
  {
   "cell_type": "markdown",
   "id": "e5ab4caa-bdeb-4b2e-9c86-249051a669a9",
   "metadata": {},
   "source": [
    "<h1 style=\"color:rgb(17, 116, 155);text-align:left;font-size:250%;font-family:verdana;text-decoration:underline;\"> \n",
    "    Advanced topics - Final Project - Part 3: End-to-End CNN</h1>"
   ]
  },
  {
   "cell_type": "markdown",
   "id": "5db3e8b2-a92b-49fa-aab6-e10dc30d9bd7",
   "metadata": {},
   "source": [
    "## <u>שיפור ארכיטקטורת הרשת, Label Smoothing,אוגמנטציה מתקדמת </u>"
   ]
  },
  {
   "cell_type": "markdown",
   "id": "bc8cc0cd-f383-4cd0-bc2e-3285c12b2661",
   "metadata": {},
   "source": [
    "## <u>Imports</u>"
   ]
  },
  {
   "cell_type": "code",
   "execution_count": 4,
   "id": "68399c62-7323-4d76-8ce9-e0b83824a878",
   "metadata": {},
   "outputs": [],
   "source": [
    "import os\n",
    "os.environ[\"KMP_DUPLICATE_LIB_OK\"]=\"TRUE\"\n",
    "\n",
    "from PIL import Image, ImageFilter\n",
    "import tensorflow as tf\n",
    "import torch\n",
    "from torch.utils.data import Dataset, DataLoader\n",
    "import torchvision.transforms as transforms\n",
    "import torch.nn as nn\n",
    "import torch.optim as optim\n",
    "import time\n",
    "import torch.nn.functional as F\n",
    "import numpy as np\n",
    "from sklearn.utils.class_weight import compute_class_weight\n",
    "import gc\n",
    "from collections import defaultdict\n",
    "import random\n",
    "import matplotlib.pyplot as plt"
   ]
  },
  {
   "cell_type": "code",
   "execution_count": 5,
   "id": "24211b00-91e2-4d41-83b9-3a35b28efd78",
   "metadata": {},
   "outputs": [
    {
     "name": "stdout",
     "output_type": "stream",
     "text": [
      "Using device: cuda\n"
     ]
    }
   ],
   "source": [
    "# קביעת התקן (GPU אם קיים)\n",
    "device = torch.device(\"cuda\" if torch.cuda.is_available() else \"cpu\")\n",
    "print(f\"Using device: {device}\")"
   ]
  },
  {
   "cell_type": "code",
   "execution_count": 6,
   "id": "c8003671-a3d3-4e86-bf59-d1cac45c8f94",
   "metadata": {},
   "outputs": [
    {
     "data": {
      "text/plain": [
       "208"
      ]
     },
     "execution_count": 6,
     "metadata": {},
     "output_type": "execute_result"
    }
   ],
   "source": [
    "torch.cuda.empty_cache()  # אם יש GPU \n",
    "gc.collect()  # ניקוי זיכרון בפייתון"
   ]
  },
  {
   "cell_type": "markdown",
   "id": "b3ea9bea-8f37-4824-b77c-f54ed44d9947",
   "metadata": {},
   "source": [
    "## <u>Load and Preprocess Dataset</u>"
   ]
  },
  {
   "cell_type": "code",
   "execution_count": 8,
   "id": "28b29a1c-dc42-4ed5-9b93-bb9426860437",
   "metadata": {},
   "outputs": [
    {
     "name": "stdout",
     "output_type": "stream",
     "text": [
      "Loading Cars196 dataset from TFRecord files...\n",
      "Loaded 8144 training images and 8041 test images.\n"
     ]
    }
   ],
   "source": [
    "# טעינת הנתונים (TFRecord) והכנה לפורמט PyTorch\n",
    "print(\"Loading Cars196 dataset from TFRecord files...\")\n",
    "\n",
    "data_dir = r\"C:\\Users\\yifat\\Data Science\\נושאים מתקדמים\\Final_Project_Shay\\cars196\"\n",
    "\n",
    "# יצירת רשימת קבצי ה-TFRecord\n",
    "train_files = [os.path.join(data_dir, f\"cars196-train.tfrecord-0000{i}-of-00008\") for i in range(8)]\n",
    "test_files = [os.path.join(data_dir, f\"cars196-test.tfrecord-0000{i}-of-00008\") for i in range(8)]\n",
    "\n",
    "# פונקציה לקריאת TFRecord\n",
    "def parse_tfrecord(example):\n",
    "    feature_description = {\n",
    "        'image': tf.io.FixedLenFeature([], tf.string),\n",
    "        'label': tf.io.FixedLenFeature([], tf.int64)\n",
    "    }\n",
    "    parsed_example = tf.io.parse_single_example(example, feature_description)\n",
    "    \n",
    "    image = tf.image.decode_jpeg(parsed_example['image'], channels=3)\n",
    "    image = tf.image.convert_image_dtype(image, tf.float32)  # מונע איבוד מידע\n",
    "    image = tf.image.resize(image, (224, 224))\n",
    "\n",
    "    label = parsed_example['label']\n",
    "    return image, label\n",
    "\n",
    "\n",
    "def load_tfrecord_dataset(filenames):\n",
    "    raw_dataset = tf.data.TFRecordDataset(filenames)\n",
    "    dataset = raw_dataset.map(parse_tfrecord)\n",
    "    return list(dataset)  # ממירים לרשימה לשימוש ב-PyTorch\n",
    "\n",
    "# טעינת ה-Train/Test מ-TFRecord\n",
    "train_data = [(image, label) for image, label in load_tfrecord_dataset(train_files)]\n",
    "test_data = [(image, label) for image, label in load_tfrecord_dataset(test_files)]\n",
    "\n",
    "print(f\"Loaded {len(train_data)} training images and {len(test_data)} test images.\")\n"
   ]
  },
  {
   "cell_type": "code",
   "execution_count": 9,
   "id": "43222f66-5890-4225-b2c2-acce6487b2a4",
   "metadata": {},
   "outputs": [],
   "source": [
    "# ביצוע דגימה אקראית מכל מחלקה ע\"מ ליצור כמות דאטה קטנה יותר לצורכי בדיקת המודל והרצות מהירות יותר\n",
    "# הדגימה תעשה ע\"י ייצוג שיוויוני מכל מחלקה קיימת בדאטה-סט, כדי לוודא שכל הקטגוריות מיוצגות\n",
    "# לצורך כך, אבחר 50% מהתמונות של כל מחלקה בנפרד, כדי שכל המחלקות יופיעו"
   ]
  },
  {
   "cell_type": "code",
   "execution_count": 10,
   "id": "f0a1a634-8620-44c0-8260-080881b11b8b",
   "metadata": {},
   "outputs": [
    {
     "name": "stdout",
     "output_type": "stream",
     "text": [
      "Using 4021 training images and 3977 test images from all classes.\n"
     ]
    }
   ],
   "source": [
    "# קביעת אחוז הדאטה לשימוש\n",
    "subset_ratio = 0.5  # 50% מכל מחלקה\n",
    "\n",
    "# ארגון הדאטה לפי מחלקות\n",
    "class_to_images = defaultdict(list)\n",
    "for image, label in train_data:\n",
    "    class_to_images[label.numpy()].append((image, label))\n",
    "\n",
    "# בחירת 50% מכל מחלקה\n",
    "filtered_train_data = []\n",
    "for label, images in class_to_images.items():\n",
    "    num_samples = max(1, int(len(images) * subset_ratio))  # לוודא שיש לפחות תמונה אחת\n",
    "    filtered_train_data.extend(random.sample(images, num_samples))\n",
    "\n",
    "# חזרה על זה עבור הדאטה של הבדיקות\n",
    "class_to_images_test = defaultdict(list)\n",
    "for image, label in test_data:\n",
    "    class_to_images_test[label.numpy()].append((image, label))\n",
    "\n",
    "filtered_test_data = []\n",
    "for label, images in class_to_images_test.items():\n",
    "    num_samples = max(1, int(len(images) * subset_ratio))\n",
    "    filtered_test_data.extend(random.sample(images, num_samples))\n",
    "\n",
    "# עדכון הדאטה\n",
    "train_data = filtered_train_data\n",
    "test_data = filtered_test_data\n",
    "\n",
    "print(f\"Using {len(train_data)} training images and {len(test_data)} test images from all classes.\")\n"
   ]
  },
  {
   "cell_type": "code",
   "execution_count": 11,
   "id": "00fbc8aa-92ef-447d-af0d-b1312d8d9292",
   "metadata": {},
   "outputs": [],
   "source": [
    "# מחלקת Dataset לטעינת הנתונים\n",
    "class Cars196Dataset(Dataset):\n",
    "    def __init__(self, data, transform=None):\n",
    "        self.data = data\n",
    "        self.transform = transform\n",
    "\n",
    "    def __len__(self):\n",
    "        return len(self.data)\n",
    "\n",
    "    def __getitem__(self, idx):\n",
    "        image_tf, label = self.data[idx]  # image_tf הוא Tensor של TensorFlow\n",
    "        image_np = image_tf.numpy()  # המרה ל-NumPy\n",
    "        image = Image.fromarray((image_np * 255).astype(np.uint8))  # הבאת הפיקסלים לטווח 0-255\n",
    "        if self.transform:\n",
    "            image = self.transform(image)\n",
    "        return image, label.numpy()  # גם label צריך להיות מספר ולא Tensor\n"
   ]
  },
  {
   "cell_type": "code",
   "execution_count": 12,
   "id": "bb725ff1-c3d5-464a-9cab-0c439329eb9f",
   "metadata": {},
   "outputs": [],
   "source": [
    "train_transform = transforms.Compose([\n",
    "    transforms.RandomResizedCrop(224, scale=(0.6, 1.0)),\n",
    "    transforms.RandomHorizontalFlip(p=0.5),\n",
    "    transforms.RandomRotation(degrees=15),\n",
    "    transforms.RandomPerspective(distortion_scale=0.2, p=0.3),\n",
    "    transforms.RandomAffine(degrees=0, translate=(0.1, 0.1), scale=(0.9, 1.1), shear=10),\n",
    "    transforms.ColorJitter(brightness=0.3, contrast=0.3, saturation=0.3, hue=0.1),\n",
    "    transforms.RandomGrayscale(p=0.1),\n",
    "    transforms.RandomAutocontrast(p=0.2),\n",
    "    transforms.ToTensor(),\n",
    "    transforms.RandomErasing(p=0.25, scale=(0.02, 0.2)),\n",
    "    transforms.Normalize(mean=[0.485, 0.456, 0.406],\n",
    "                         std=[0.229, 0.224, 0.225])\n",
    "])\n",
    "\n",
    "# סט הבדיקה ללא אוגמנטציה\n",
    "test_transform = transforms.Compose([\n",
    "    transforms.Resize((224, 224)),\n",
    "    transforms.ToTensor(),\n",
    "    transforms.Normalize(mean=[0.485, 0.456, 0.406], std=[0.229, 0.224, 0.225])\n",
    "])\n"
   ]
  },
  {
   "cell_type": "code",
   "execution_count": 13,
   "id": "28dbf99e-0ea1-4878-a1da-49acb5dfffe3",
   "metadata": {},
   "outputs": [
    {
     "name": "stdout",
     "output_type": "stream",
     "text": [
      "Train and Test Dataloaders created with batch size 32.\n",
      "Training samples: 4021, Testing samples: 3977\n"
     ]
    }
   ],
   "source": [
    "batch_size = 32\n",
    "train_dataset = Cars196Dataset(train_data, transform=train_transform)\n",
    "test_dataset = Cars196Dataset(test_data, transform=test_transform)\n",
    "\n",
    "train_loader = DataLoader(train_dataset, batch_size=batch_size, shuffle=True, num_workers=0)\n",
    "test_loader = DataLoader(test_dataset, batch_size=batch_size, shuffle=False, num_workers=0)\n",
    "\n",
    "print(f\"Train and Test Dataloaders created with batch size {batch_size}.\")\n",
    "print(f\"Training samples: {len(train_dataset)}, Testing samples: {len(test_dataset)}\")\n"
   ]
  },
  {
   "cell_type": "code",
   "execution_count": 14,
   "id": "18506724-355b-44d8-bbeb-2a1a0482e3ac",
   "metadata": {},
   "outputs": [],
   "source": [
    "# חישוב משקלים למחלקות לטיפול בחוסר איזון\n",
    "labels_list = np.array([label.numpy() for _, label in train_data])  # המרה ל-NumPy\n",
    "class_weights = compute_class_weight(class_weight=\"balanced\", classes=np.unique(labels_list), y=labels_list)\n",
    "class_weights = torch.tensor(class_weights, dtype=torch.float).to(device)  # המרה ל-Tensor של PyTorch\n"
   ]
  },
  {
   "cell_type": "markdown",
   "id": "dad66359-9706-4558-9b71-27eac9627f6f",
   "metadata": {},
   "source": [
    "## <u>Define and Train a CNN Model</u>"
   ]
  },
  {
   "cell_type": "code",
   "execution_count": 16,
   "id": "7253cfb6-86c3-4848-8087-ccf6b37ed0c3",
   "metadata": {},
   "outputs": [],
   "source": [
    "# שיפור ארכיטקטורת הרשת – הוספת שכבות, נרמול ושכבות קונבולוציה נוספות\n",
    "#######################################################\n",
    "# הוספת שכבות Batch Normalization תייצב את הלמידה ותאפשר התכנסות טובה יותר.\n",
    "# הוספת Conv+MaxPooling כפולות יאפשרו למודל ללמוד יותר פרמטרים תוך שמירה על יעילות חישובית."
   ]
  },
  {
   "cell_type": "code",
   "execution_count": 17,
   "id": "f84f4fbb-2745-41c7-90fa-40638a82946f",
   "metadata": {},
   "outputs": [],
   "source": [
    "class CNNClassifier(nn.Module):\n",
    "    def __init__(self, num_classes=196):\n",
    "        super(CNNClassifier, self).__init__()\n",
    "\n",
    "        self.conv1 = nn.Conv2d(3, 64, kernel_size=3, stride=1, padding=1)\n",
    "        self.bn1 = nn.BatchNorm2d(64)\n",
    "        self.conv2 = nn.Conv2d(64, 128, kernel_size=3, stride=1, padding=1)\n",
    "        self.bn2 = nn.BatchNorm2d(128)\n",
    "        self.conv3 = nn.Conv2d(128, 256, kernel_size=3, stride=1, padding=1)\n",
    "        self.bn3 = nn.BatchNorm2d(256)\n",
    "        self.conv4 = nn.Conv2d(256, 512, kernel_size=3, stride=1, padding=1)\n",
    "        self.bn4 = nn.BatchNorm2d(512)\n",
    "        self.conv5 = nn.Conv2d(512, 1024, kernel_size=3, stride=1, padding=1)  # שכבה נוספת\n",
    "        self.bn5 = nn.BatchNorm2d(1024)\n",
    "\n",
    "        self.pool = nn.MaxPool2d(kernel_size=2, stride=2, padding=0)\n",
    "        self.dropout = nn.Dropout(0.5)\n",
    "\n",
    "        self.fc1 = nn.Linear(1024 * 7 * 7, 2048)  # התאמה לכמות הפיצ'רים החדשה\n",
    "        self.fc2 = nn.Linear(2048, 1024)\n",
    "        self.fc3 = nn.Linear(1024, num_classes)\n",
    "\n",
    "    def forward(self, x):\n",
    "        x = self.pool(F.relu(self.bn1(self.conv1(x))))\n",
    "        x = self.pool(F.relu(self.bn2(self.conv2(x))))\n",
    "        x = self.pool(F.relu(self.bn3(self.conv3(x))))\n",
    "        x = self.pool(F.relu(self.bn4(self.conv4(x))))\n",
    "        x = self.pool(F.relu(self.bn5(self.conv5(x))))  # שכבה נוספת\n",
    "\n",
    "        x = torch.flatten(x, 1)\n",
    "        x = F.relu(self.fc1(x))\n",
    "        x = self.dropout(x)\n",
    "        x = F.relu(self.fc2(x))\n",
    "        x = self.fc3(x)\n",
    "\n",
    "        return x\n"
   ]
  },
  {
   "cell_type": "code",
   "execution_count": 18,
   "id": "fcf7f4e1-75d0-4b35-b5e2-564dcdcb4f1f",
   "metadata": {},
   "outputs": [
    {
     "name": "stdout",
     "output_type": "stream",
     "text": [
      "True\n",
      "1\n",
      "NVIDIA GeForce RTX 4050 Laptop GPU\n"
     ]
    },
    {
     "data": {
      "text/plain": [
       "543"
      ]
     },
     "execution_count": 18,
     "metadata": {},
     "output_type": "execute_result"
    }
   ],
   "source": [
    "print(torch.cuda.is_available())  # צריך להחזיר True\n",
    "print(torch.cuda.device_count())  # צריך להיות 1 לפחות\n",
    "print(torch.cuda.get_device_name(0))  # שם הכרטיס הגרפי\n",
    "\n",
    "torch.cuda.empty_cache()  # אם יש GPU \n",
    "gc.collect()  # ניקוי זיכרון בפייתון"
   ]
  },
  {
   "cell_type": "code",
   "execution_count": 19,
   "id": "c0c0016b-1538-4793-8a67-bcba5ba54043",
   "metadata": {},
   "outputs": [],
   "source": [
    "# פונקציות אימון ובדיקה\n",
    "def train_epoch(model, train_loader, criterion, optimizer):\n",
    "    model.train()\n",
    "    model.to(device)\n",
    "    running_loss = 0\n",
    "    start_time = time.time()\n",
    "    \n",
    "    for images, labels in train_loader:\n",
    "        images, labels = images.to(device), labels.to(device)\n",
    "        optimizer.zero_grad()\n",
    "        \n",
    "        outputs = model(images)\n",
    "        loss = criterion(outputs, labels)\n",
    "        \n",
    "        loss.backward()\n",
    "        optimizer.step()\n",
    "\n",
    "        running_loss += loss.item()\n",
    "\n",
    "    scheduler.step()  # עדכון הלרנינג רייט בסוף כל אפוק\n",
    "    end_time = time.time()\n",
    "    running_loss /= len(train_loader)\n",
    "    return running_loss, end_time - start_time\n",
    "    \n",
    "\n",
    "# פונקציה לבדיקה של המודל\n",
    "def test_model(model, test_loader, criterion):\n",
    "    with torch.no_grad():\n",
    "        model.eval()\n",
    "        model.to(device)\n",
    "        running_loss = 0\n",
    "        total_predictions = 0\n",
    "        correct_predictions = 0\n",
    "        \n",
    "        for images, labels in test_loader:\n",
    "            images, labels = images.to(device), labels.to(device)\n",
    "            outputs = model(images)\n",
    "            loss = criterion(outputs, labels)\n",
    "            \n",
    "            running_loss += loss.item()\n",
    "            _, predicted = torch.max(outputs.data, 1)\n",
    "            total_predictions += labels.size(0)\n",
    "            correct_predictions += (predicted == labels).sum().item()\n",
    "        \n",
    "        running_loss /= len(test_loader)\n",
    "        accuracy = (correct_predictions / total_predictions)*100.0\n",
    "        return running_loss, accuracy\n"
   ]
  },
  {
   "cell_type": "code",
   "execution_count": 20,
   "id": "77e23818-c0e7-4cb4-a186-c08362ed4ba3",
   "metadata": {},
   "outputs": [],
   "source": [
    "# שילוב Early Stopping \n",
    "######################"
   ]
  },
  {
   "cell_type": "code",
   "execution_count": 21,
   "id": "a701e453-541e-406c-8e1f-4c51b35e48c7",
   "metadata": {},
   "outputs": [],
   "source": [
    "class EarlyStopping:\n",
    "    def __init__(self, patience=10, min_delta=0.001):\n",
    "        \"\"\"\n",
    "        patience - מספר האפוקים ללא שיפור לפני עצירה\n",
    "        min_delta - השיפור המינימלי שייחשב לשיפור אמיתי\n",
    "        \"\"\"\n",
    "        self.patience = patience\n",
    "        self.min_delta = min_delta\n",
    "        self.best_loss = float('inf')\n",
    "        self.counter = 0\n",
    "\n",
    "    def __call__(self, val_loss):\n",
    "        if val_loss < self.best_loss - self.min_delta:\n",
    "            self.best_loss = val_loss\n",
    "            self.counter = 0  # אפס את הספירה אם יש שיפור\n",
    "        else:\n",
    "            self.counter += 1  # ספירה של אפוקים ללא שיפור\n",
    "\n",
    "        return self.counter >= self.patience  # עצור אם חרגנו ממספר האפוקים המותר\n"
   ]
  },
  {
   "cell_type": "code",
   "execution_count": 22,
   "id": "ffd04947-042a-4400-9838-ed56e454cf5b",
   "metadata": {
    "scrolled": true
   },
   "outputs": [
    {
     "name": "stdout",
     "output_type": "stream",
     "text": [
      "adamw_lr0003_decay1e5 | Epoch 1/50 | Train Loss: 5.5634 | Test Loss: 5.2692 | Test Acc: 0.93%\n",
      "adamw_lr0003_decay1e5 | Epoch 2/50 | Train Loss: 5.3082 | Test Loss: 5.2538 | Test Acc: 0.80%\n",
      "adamw_lr0003_decay1e5 | Epoch 3/50 | Train Loss: 5.2760 | Test Loss: 5.2422 | Test Acc: 0.85%\n",
      "adamw_lr0003_decay1e5 | Epoch 4/50 | Train Loss: 5.2575 | Test Loss: 5.2228 | Test Acc: 1.11%\n",
      "adamw_lr0003_decay1e5 | Epoch 5/50 | Train Loss: 5.2502 | Test Loss: 5.2345 | Test Acc: 0.60%\n",
      "adamw_lr0003_decay1e5 | Epoch 6/50 | Train Loss: 5.2481 | Test Loss: 5.2204 | Test Acc: 1.18%\n",
      "adamw_lr0003_decay1e5 | Epoch 7/50 | Train Loss: 5.2341 | Test Loss: 5.2206 | Test Acc: 1.11%\n",
      "adamw_lr0003_decay1e5 | Epoch 8/50 | Train Loss: 5.2342 | Test Loss: 5.2137 | Test Acc: 0.75%\n",
      "adamw_lr0003_decay1e5 | Epoch 9/50 | Train Loss: 5.2312 | Test Loss: 5.2272 | Test Acc: 0.93%\n",
      "adamw_lr0003_decay1e5 | Epoch 10/50 | Train Loss: 5.2319 | Test Loss: 5.2147 | Test Acc: 0.98%\n",
      "adamw_lr0003_decay1e5 | Epoch 11/50 | Train Loss: 5.2234 | Test Loss: 5.2203 | Test Acc: 0.93%\n",
      "adamw_lr0003_decay1e5 | Epoch 12/50 | Train Loss: 5.2236 | Test Loss: 5.2131 | Test Acc: 1.11%\n",
      "adamw_lr0003_decay1e5 | Epoch 13/50 | Train Loss: 5.2218 | Test Loss: 5.2129 | Test Acc: 0.96%\n",
      "adamw_lr0003_decay1e5 | Epoch 14/50 | Train Loss: 5.2216 | Test Loss: 5.2197 | Test Acc: 0.98%\n",
      "adamw_lr0003_decay1e5 | Epoch 15/50 | Train Loss: 5.2138 | Test Loss: 5.2151 | Test Acc: 0.88%\n",
      "adamw_lr0003_decay1e5 | Epoch 16/50 | Train Loss: 5.2121 | Test Loss: 5.2140 | Test Acc: 0.96%\n",
      "adamw_lr0003_decay1e5 | Epoch 17/50 | Train Loss: 5.2131 | Test Loss: 5.2202 | Test Acc: 1.11%\n",
      "adamw_lr0003_decay1e5 | Epoch 18/50 | Train Loss: 5.2022 | Test Loss: 5.2121 | Test Acc: 1.13%\n",
      "adamw_lr0003_decay1e5 | Epoch 19/50 | Train Loss: 5.2081 | Test Loss: 5.2028 | Test Acc: 0.88%\n",
      "adamw_lr0003_decay1e5 | Epoch 20/50 | Train Loss: 5.2000 | Test Loss: 5.2011 | Test Acc: 0.96%\n",
      "adamw_lr0003_decay1e5 | Epoch 21/50 | Train Loss: 5.1997 | Test Loss: 5.1902 | Test Acc: 0.93%\n",
      "adamw_lr0003_decay1e5 | Epoch 22/50 | Train Loss: 5.1917 | Test Loss: 5.1933 | Test Acc: 0.85%\n",
      "adamw_lr0003_decay1e5 | Epoch 23/50 | Train Loss: 5.1923 | Test Loss: 5.1968 | Test Acc: 1.23%\n",
      "adamw_lr0003_decay1e5 | Epoch 24/50 | Train Loss: 5.1918 | Test Loss: 5.1929 | Test Acc: 1.01%\n",
      "adamw_lr0003_decay1e5 | Epoch 25/50 | Train Loss: 5.1959 | Test Loss: 5.1995 | Test Acc: 1.06%\n",
      "adamw_lr0003_decay1e5 | Epoch 26/50 | Train Loss: 5.1893 | Test Loss: 5.1914 | Test Acc: 0.93%\n",
      "adamw_lr0003_decay1e5 | Epoch 27/50 | Train Loss: 5.1864 | Test Loss: 5.1854 | Test Acc: 1.06%\n",
      "adamw_lr0003_decay1e5 | Epoch 28/50 | Train Loss: 5.1810 | Test Loss: 5.1800 | Test Acc: 1.03%\n",
      "adamw_lr0003_decay1e5 | Epoch 29/50 | Train Loss: 5.1856 | Test Loss: 5.1865 | Test Acc: 1.16%\n",
      "adamw_lr0003_decay1e5 | Epoch 30/50 | Train Loss: 5.1739 | Test Loss: 5.1760 | Test Acc: 1.36%\n",
      "adamw_lr0003_decay1e5 | Epoch 31/50 | Train Loss: 5.1717 | Test Loss: 5.1774 | Test Acc: 1.08%\n",
      "adamw_lr0003_decay1e5 | Epoch 32/50 | Train Loss: 5.1758 | Test Loss: 5.1756 | Test Acc: 0.93%\n",
      "adamw_lr0003_decay1e5 | Epoch 33/50 | Train Loss: 5.1822 | Test Loss: 5.1618 | Test Acc: 1.51%\n",
      "adamw_lr0003_decay1e5 | Epoch 34/50 | Train Loss: 5.1774 | Test Loss: 5.1781 | Test Acc: 1.08%\n",
      "adamw_lr0003_decay1e5 | Epoch 35/50 | Train Loss: 5.1695 | Test Loss: 5.1699 | Test Acc: 1.13%\n",
      "adamw_lr0003_decay1e5 | Epoch 36/50 | Train Loss: 5.1700 | Test Loss: 5.1651 | Test Acc: 1.08%\n",
      "adamw_lr0003_decay1e5 | Epoch 37/50 | Train Loss: 5.1756 | Test Loss: 5.1688 | Test Acc: 1.31%\n",
      "adamw_lr0003_decay1e5 | Epoch 38/50 | Train Loss: 5.1595 | Test Loss: 5.1735 | Test Acc: 1.23%\n",
      "adamw_lr0003_decay1e5 | Epoch 39/50 | Train Loss: 5.1589 | Test Loss: 5.1607 | Test Acc: 1.38%\n",
      "adamw_lr0003_decay1e5 | Epoch 40/50 | Train Loss: 5.1558 | Test Loss: 5.1623 | Test Acc: 1.16%\n",
      "adamw_lr0003_decay1e5 | Epoch 41/50 | Train Loss: 5.1501 | Test Loss: 5.1637 | Test Acc: 1.33%\n",
      "adamw_lr0003_decay1e5 | Epoch 42/50 | Train Loss: 5.1491 | Test Loss: 5.1625 | Test Acc: 1.01%\n",
      "adamw_lr0003_decay1e5 | Epoch 43/50 | Train Loss: 5.1565 | Test Loss: 5.1656 | Test Acc: 1.41%\n",
      "adamw_lr0003_decay1e5 | Epoch 44/50 | Train Loss: 5.1452 | Test Loss: 5.1473 | Test Acc: 1.53%\n",
      "adamw_lr0003_decay1e5 | Epoch 45/50 | Train Loss: 5.1536 | Test Loss: 5.1611 | Test Acc: 1.56%\n",
      "adamw_lr0003_decay1e5 | Epoch 46/50 | Train Loss: 5.1457 | Test Loss: 5.1589 | Test Acc: 1.43%\n",
      "adamw_lr0003_decay1e5 | Epoch 47/50 | Train Loss: 5.1385 | Test Loss: 5.1533 | Test Acc: 1.61%\n",
      "adamw_lr0003_decay1e5 | Epoch 48/50 | Train Loss: 5.1533 | Test Loss: 5.1466 | Test Acc: 1.61%\n",
      "adamw_lr0003_decay1e5 | Epoch 49/50 | Train Loss: 5.1335 | Test Loss: 5.1307 | Test Acc: 1.53%\n",
      "adamw_lr0003_decay1e5 | Epoch 50/50 | Train Loss: 5.1412 | Test Loss: 5.1489 | Test Acc: 1.68%\n",
      "Model saved as model_adamw_lr0003_decay1e5_50_DATA.pth\n"
     ]
    },
    {
     "data": {
      "image/png": "[encoded data removed]",
      "text/plain": [
       "<Figure size 1000x500 with 1 Axes>"
      ]
     },
     "metadata": {},
     "output_type": "display_data"
    },
    {
     "data": {
      "text/plain": [
       "3193"
      ]
     },
     "execution_count": 22,
     "metadata": {},
     "output_type": "execute_result"
    }
   ],
   "source": [
    "num_epochs = 50  # הגדלת מספר האפוקים\n",
    "\n",
    "# הגדרת הקונפיגורציה הנבחרת\n",
    "chosen_config = {\"name\": \"adamw_lr0003_decay1e5\", \"lr\": 0.0003, \"weight_decay\": 1e-5}\n",
    "\n",
    "# יצירת המודל והאופטימייזר\n",
    "model = CNNClassifier(num_classes=196).to(device)\n",
    "\n",
    "optimizer = optim.AdamW(\n",
    "    model.parameters(),\n",
    "    lr=chosen_config[\"lr\"],\n",
    "    weight_decay=chosen_config[\"weight_decay\"]\n",
    ")\n",
    "\n",
    "scheduler = torch.optim.lr_scheduler.OneCycleLR(\n",
    "    optimizer, max_lr=0.005, steps_per_epoch=len(train_loader), epochs=num_epochs\n",
    ")\n",
    "\n",
    "criterion = nn.CrossEntropyLoss(weight=class_weights, label_smoothing=0.1)\n",
    "early_stopping = EarlyStopping(patience=10, min_delta=0.001)\n",
    "\n",
    "best_acc = 0.0\n",
    "acc_per_epoch = []\n",
    "\n",
    "for epoch in range(num_epochs):\n",
    "    train_loss, train_time = train_epoch(model, train_loader, criterion, optimizer)\n",
    "    test_loss, test_acc = test_model(model, test_loader, criterion)\n",
    "\n",
    "    print(f\"{chosen_config['name']} | Epoch {epoch+1}/{num_epochs} | Train Loss: {train_loss:.4f} | Test Loss: {test_loss:.4f} | Test Acc: {test_acc:.2f}%\")\n",
    "\n",
    "    best_acc = max(best_acc, test_acc)\n",
    "    acc_per_epoch.append(test_acc)\n",
    "\n",
    "    if early_stopping(test_loss):\n",
    "        print(f\"Early stopping for {chosen_config['name']} at epoch {epoch+1}\\n\")\n",
    "        break\n",
    "\n",
    "# שמירת המודל הסופי\n",
    "#torch.save(model.state_dict(), f\"model_{chosen_config['name']}_FULLDATA.pth\")\n",
    "#print(f\"Model saved as model_{chosen_config['name']}_FULLDATA.pth\")\n",
    "torch.save(model.state_dict(), f\"model_{chosen_config['name']}_50_DATA.pth\")\n",
    "print(f\"Model saved as model_{chosen_config['name']}_50_DATA.pth\")\n",
    "\n",
    "\n",
    "# גרף תוצאת דיוק\n",
    "plt.figure(figsize=(10, 5))\n",
    "plt.plot(acc_per_epoch, label=chosen_config['name'])\n",
    "plt.xlabel(\"Epoch\")\n",
    "plt.ylabel(\"Test Accuracy (%)\")\n",
    "plt.title(\"Test Accuracy Over Epochs – Full Dataset\")\n",
    "plt.grid(True)\n",
    "plt.legend()\n",
    "plt.tight_layout()\n",
    "plt.show()\n",
    "\n",
    "# ניקוי\n",
    "del model\n",
    "torch.cuda.empty_cache()\n",
    "gc.collect()\n"
   ]
  },
  {
   "cell_type": "raw",
   "id": "93741526-3c68-4877-9b79-6126565a682e",
   "metadata": {},
   "source": [
    "מה מראים הנתונים שלך על 50% מהדאטה?\n",
    "שיפור מדורג ויציב לאורך זמן\n",
    "התחלנו עם Test Accuracy של 0.93% (אפוק 1)\n",
    "סיימנו עם 1.68% (אפוק 50)\n",
    "זו עלייה עקבית וללא קפיצות חריגות או \"קריסה\" — סימן למודל שלומד בהדרגה ומכליל טוב.\n",
    "\n",
    "פערים קטנים בין Train Loss ל-Test Loss\n",
    "בתחילת האימון:\n",
    "Train Loss = 5.56, Test Loss = 5.26 → הפרש קטן\n",
    "באפוק 50:\n",
    "Train Loss = 5.14, Test Loss = 5.14~5.16 → כמעט זהים\n",
    "\n",
    "מסקנה: אין סימני Overfitting. להפך — נראה שהמודל עוד יכול ללמוד יותר.\n",
    "\n",
    "למה הדיוק נראה \"נמוך\"?\n",
    "את עוסקת בבעיית Classification עם 196 מחלקות, ובלי Transfer Learning.\n",
    "לכן אפילו 1.5%–2% זה הרבה יותר טוב מ-\"ניחוש\" (שיהיה ≈ 0.5%).\n",
    "\n",
    "המודל יציב ומתקדם:\n",
    "Loss יורד לאורך זמן\n",
    "Accuracy עולה בהתמדה\n",
    "אין overfitting\n",
    "השיפור נמשך גם אחרי אפוק 30\n",
    "\n"
   ]
  }
 ],
 "metadata": {
  "kernelspec": {
   "display_name": "Python [conda env:base] *",
   "language": "python",
   "name": "conda-base-py"
  },
  "language_info": {
   "codemirror_mode": {
    "name": "ipython",
    "version": 3
   },
   "file_extension": ".py",
   "mimetype": "text/x-python",
   "name": "python",
   "nbconvert_exporter": "python",
   "pygments_lexer": "ipython3",
   "version": "3.12.7"
  }
 },
 "nbformat": 4,
 "nbformat_minor": 5
}
